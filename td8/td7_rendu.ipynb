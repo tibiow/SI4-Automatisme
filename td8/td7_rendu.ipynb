{
 "cells": [
  {
   "cell_type": "code",
   "execution_count": 1,
   "metadata": {
    "collapsed": false
   },
   "outputs": [
    {
     "name": "stdout",
     "output_type": "stream",
     "text": [
      "Optimization terminated successfully.    (Exit mode 0)\n",
      "            Current function value: 0.0\n",
      "            Iterations: 2\n",
      "            Function evaluations: 3\n",
      "            Gradient evaluations: 2\n",
      "[ 2.  1.]\n",
      "Optimization terminated successfully.    (Exit mode 0)\n",
      "            Current function value: 1.0\n",
      "            Iterations: 2\n",
      "            Function evaluations: 3\n",
      "            Gradient evaluations: 2\n",
      "[ 1.66666667  0.33333333]\n"
     ]
    }
   ],
   "source": [
    "import numpy as np\n",
    "from scipy.optimize import minimize\n",
    "\n",
    "#représente la fonction sur laquelle on travaille\n",
    "def func(x):\n",
    "    \"\"\" Objective function \"\"\"\n",
    "    return (x[0]-2)**2+2*(x[1]-1)**2\n",
    "\n",
    "#représente la dérivé de la fonction sur laquelle on travaille\n",
    "def func_deriv(x):\n",
    "    \"\"\" Derivative of objective function \"\"\"\n",
    "    dfdx0 = 2*(x[0]-2)\n",
    "    dfdx1 = 4*(x[1]-1)\n",
    "    return np.array([ dfdx0, dfdx1 ])\n",
    "\n",
    "#cons est la variable permettant de contenir les 2 équations utilisées lors de la résolution du problème.\n",
    "#Les éléments 'fun' représentent la fonction en elles même.\n",
    "#Les éléments 'jac' représentent le résultat de la dérivation par rapport à x et par rapport à y.\n",
    "cons = ({'type': 'eq',\n",
    "'fun' : lambda x: np.array(x[0]+4*x[1]-3),\n",
    "'jac' : lambda x: np.array([1.0,4.0])},\n",
    "{'type': 'ineq',\n",
    "'fun' : lambda x: np.array([x[0] - x[1]]),\n",
    "'jac' : lambda x: np.array([1.0,-1.0])})\n",
    "    \n",
    "#Permet de minimiser la fonction à l'aide d'ne méthode choisie (passer en paramètre)\n",
    "res = minimize(func, [-1.0,1.0], jac=func_deriv, method='SLSQP', options={'disp': True})\n",
    "\n",
    "\n",
    "print(res.x)\n",
    "\n",
    "#Permet de minimiser la fonction à l'aide d'une méthode choisie (cette fois-ci on rajoute en argument le facteur cons)\n",
    "res = minimize(func, [-1.0,1.0], jac=func_deriv, constraints=cons, method='SLSQP', options={'disp': True})\n",
    "\n",
    "print(res.x)"
   ]
  },
  {
   "cell_type": "markdown",
   "metadata": {
    "collapsed": true
   },
   "source": [
    "D'après l'étude précédemment effectués lors de l'ex3 on se rend compte que X* = 5/3 et Y* = 2/3.\n",
    "\n",
    "Or Grâce à cette algorithme on trouve exactement la même chose ce qui nous assure que l'algorithme remplit bien sa fonction."
   ]
  }
 ],
 "metadata": {
  "anaconda-cloud": {},
  "kernelspec": {
   "display_name": "Python [conda root]",
   "language": "python",
   "name": "conda-root-py"
  },
  "language_info": {
   "codemirror_mode": {
    "name": "ipython",
    "version": 3
   },
   "file_extension": ".py",
   "mimetype": "text/x-python",
   "name": "python",
   "nbconvert_exporter": "python",
   "pygments_lexer": "ipython3",
   "version": "3.5.2"
  }
 },
 "nbformat": 4,
 "nbformat_minor": 1
}
